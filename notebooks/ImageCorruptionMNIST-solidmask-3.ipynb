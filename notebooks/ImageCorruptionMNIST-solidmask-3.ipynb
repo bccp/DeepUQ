{
 "cells": [
  {
   "cell_type": "markdown",
   "metadata": {},
   "source": [
    "## Example 4: masked 4 with bimodal posterior"
   ]
  },
  {
   "cell_type": "code",
   "execution_count": 66,
   "metadata": {
    "colab": {
     "base_uri": "https://localhost:8080/",
     "height": 34
    },
    "colab_type": "code",
    "executionInfo": {
     "elapsed": 411,
     "status": "ok",
     "timestamp": 1568330149594,
     "user": {
      "displayName": "Vanessa Boehm PhD",
      "photoUrl": "",
      "userId": "18062987068597777273"
     },
     "user_tz": 420
    },
    "id": "D-Fe5G8m1FTC",
    "outputId": "481e97a2-895c-40e1-c3f8-aaac7fb27b5d"
   },
   "outputs": [
    {
     "name": "stdout",
     "output_type": "stream",
     "text": [
      "Populating the interactive namespace from numpy and matplotlib\n"
     ]
    },
    {
     "name": "stderr",
     "output_type": "stream",
     "text": [
      "/global/homes/v/vboehm/.conda/envs/tf22/lib/python3.8/site-packages/IPython/core/magics/pylab.py:159: UserWarning: pylab import has clobbered these variables: ['cov', 'seed']\n",
      "`%matplotlib` prevents importing * from pylab and numpy\n",
      "  warn(\"pylab import has clobbered these variables: %s\"  % clobbered +\n"
     ]
    }
   ],
   "source": [
    "import os\n",
    "%pylab inline\n",
    "import pickle"
   ]
  },
  {
   "cell_type": "code",
   "execution_count": null,
   "metadata": {
    "colab": {
     "base_uri": "https://localhost:8080/",
     "height": 50
    },
    "colab_type": "code",
    "executionInfo": {
     "elapsed": 5775,
     "status": "ok",
     "timestamp": 1568330157145,
     "user": {
      "displayName": "Vanessa Boehm PhD",
      "photoUrl": "",
      "userId": "18062987068597777273"
     },
     "user_tz": 420
    },
    "id": "GbM9eAbNvLiP",
    "outputId": "8d47cc8a-f1ed-49c5-f02d-c69869c04784"
   },
   "outputs": [],
   "source": []
  },
  {
   "cell_type": "code",
   "execution_count": 67,
   "metadata": {},
   "outputs": [],
   "source": [
    "param_file = 'params_mnist_-1_8_infoGAN_AE_v2_full_sigma'\n",
    "\n",
    "PROJECT_PATH = \"/global/homes/v/vboehm/codes/RNF\" \n",
    "PARAMS_PATH = os.path.join(PROJECT_PATH,'params')\n",
    "\n",
    "OLD_ROOT = '/global/scratch/vboehm/rnf/'\n",
    "NEW_ROOT = '/global/cscratch1/sd/vboehm/RNF/'"
   ]
  },
  {
   "cell_type": "code",
   "execution_count": 68,
   "metadata": {
    "colab": {},
    "colab_type": "code",
    "id": "sZkaGpCR1kVS"
   },
   "outputs": [],
   "source": [
    "params   = pickle.load(open(os.path.join(PARAMS_PATH,param_file+'.pkl'),'rb'))"
   ]
  },
  {
   "cell_type": "code",
   "execution_count": 69,
   "metadata": {
    "colab": {},
    "colab_type": "code",
    "id": "-AEYmOsH1FTI"
   },
   "outputs": [],
   "source": [
    "import tensorflow.compat.v1 as tf\n",
    "#To make tf 2.0 compatible with tf1.0 code, we disable the tf2.0 functionalities\n",
    "tf.disable_eager_execution()\n",
    "import tensorflow_probability as tfp\n",
    "import tensorflow_hub as hub\n",
    "tfd = tfp.distributions\n",
    "tfb = tfp.bijectors"
   ]
  },
  {
   "cell_type": "code",
   "execution_count": 70,
   "metadata": {},
   "outputs": [],
   "source": [
    "params['module_dir'] = params['module_dir'].replace(OLD_ROOT,NEW_ROOT)\n",
    "params['data_dir']   = os.path.join('/global/cscratch1/sd/vboehm/RNF/datasets')\n",
    "params['plot_dir']   = os.path.join(PROJECT_PATH,'plots','inpaint3')"
   ]
  },
  {
   "cell_type": "code",
   "execution_count": 71,
   "metadata": {
    "colab": {},
    "colab_type": "code",
    "id": "8puPFE90P0aD"
   },
   "outputs": [],
   "source": [
    "generator_path   = os.path.join(params['module_dir'],'decoder')\n",
    "encoder_path     = os.path.join(params['module_dir'],'encoder')\n",
    "nvp_path         = os.path.join(params['module_dir'],'nsf2')"
   ]
  },
  {
   "cell_type": "code",
   "execution_count": 72,
   "metadata": {
    "colab": {},
    "colab_type": "code",
    "id": "nFzYYSxY1FTL"
   },
   "outputs": [],
   "source": [
    "import sys\n",
    "sys.path.append('/global/homes/v/vboehm/codes/RNF/')\n",
    "\n",
    "from rnf.load_data import load_mnist\n",
    "\n",
    "load_func                                         = load_mnist\n",
    "x_train, y_train, x_valid, y_valid, x_test, y_test = load_func(params['data_set'],flatten=False)\n",
    "\n",
    "if np.all(x_test)==None:\n",
    "    x_test=x_valid\n",
    "    \n",
    "def add_noise(x,sigma=0.1):\n",
    "    nn = np.random.normal(size=np.shape(x))\n",
    "    x  = x+nn*sigma\n",
    "    return x\n",
    "\n",
    "x_train    = add_noise(x_train)/255.-0.5\n",
    "x_test     = add_noise(x_test)/255.-0.5\n",
    "x_valid    = add_noise(x_valid)/255.-0.5"
   ]
  },
  {
   "cell_type": "code",
   "execution_count": 73,
   "metadata": {},
   "outputs": [
    {
     "data": {
      "image/png": "[encoded data removed]",
      "text/plain": [
       "<Figure size 432x288 with 1 Axes>"
      ]
     },
     "metadata": {
      "needs_background": "light"
     },
     "output_type": "display_data"
    }
   ],
   "source": [
    "for ii in [32]:\n",
    "    plt.imshow(x_test[ii,:,:,0])\n",
    "    plt.show()"
   ]
  },
  {
   "cell_type": "code",
   "execution_count": 74,
   "metadata": {
    "colab": {},
    "colab_type": "code",
    "id": "ft_jIh-W1FTN"
   },
   "outputs": [],
   "source": [
    "data_dim    = 28*28\n",
    "data_size   = params['batch_size']\n",
    "sigma_n     = (params['full_sigma']+1e-4).reshape((1,28*28,1)).astype(np.float32)\n",
    "noise_n     = sigma_n\n",
    "hidden_size = params['latent_size']\n",
    "n_channels  = 1\n",
    "seed        = 777\n",
    "\n",
    "\n",
    "# settings for reconstruction with uncorrupted data\n",
    "# corr_type   = 'none'\n",
    "# num_mnist   = 6\n",
    "# label       = 'uncorrupted'\n",
    "# noise_level = 0.0\n",
    "# num_comp    = 2\n",
    "\n",
    "# settings for reconstrcution with rectangular mask\n",
    "corr_type   = 'mask'\n",
    "num_mnist   = 32\n",
    "label       = 'solidmask'\n",
    "noise_level = 0.0\n",
    "num_comp    = 32\n",
    "\n",
    "#settings for reconstruction with sparse mask \n",
    "# corr_type   = 'sparse mask'\n",
    "# num_mnist   = 1\n",
    "# label       = 'sparse95'\n",
    "# noise_level = 0.\n",
    "# num_comp    = 2\n",
    "\n",
    "# settings for reconstruction with noise\n",
    "# corr_type   = 'noise'\n",
    "# num_mnist   = 6\n",
    "# label       = 'noise05'\n",
    "# noise_level = 0.5\n",
    "# num_comp    = 4\n",
    "\n",
    "# settings for reconstruction with noise and mask\n",
    "# corr_type   = 'noise+mask'\n",
    "# num_mnist   = 6\n",
    "# label       = 'masknoise05'\n",
    "# noise_level = 0.5\n",
    "# num_comp    = 2"
   ]
  },
  {
   "cell_type": "code",
   "execution_count": 75,
   "metadata": {
    "colab": {},
    "colab_type": "code",
    "id": "nxcZOE0MLGJ1"
   },
   "outputs": [],
   "source": [
    "def plot_image(image, save=True, directory='./plots/',filename='plotted_image', title='image',vmin=None,vmax=None, mask=None):\n",
    "  \n",
    "  if np.any(mask==None):\n",
    "    mask=np.ones((28,28))\n",
    "  mask = np.reshape(mask,(28,28))\n",
    "  plt.figure()\n",
    "  #plt.title(title)\n",
    "  plt.imshow((image).reshape((28,28))*mask,cmap='gray',vmin=vmin, vmax=vmax)\n",
    "  plt.axis('off')\n",
    "  #plt.colorbar()\n",
    "  if save: \n",
    "    plt.savefig(directory+filename+'.pdf',bbox_inches='tight')\n",
    "  plt.show()\n",
    "  \n",
    "  return True\n",
    "\n",
    "def get_custom_noise(shape, signal_dependent=False, signal =None, sigma_low=0.07, sigma_high=0.22, threshold=0.02 ):\n",
    "  \n",
    "  sigma = sigma_n\n",
    "  \n",
    "  if signal_dependent: \n",
    "    for ii in range(data_size):\n",
    "      sigma[ii][np.where(signal[ii]<=threshold)]= sigma_low\n",
    "      sigma[ii][np.where(signal[ii]>threshold)]= sigma_high\n",
    "      \n",
    "  data_noise = np.ones_like(sigma)*noise_level\n",
    "  \n",
    "  sigma = np.sqrt(sigma**2+data_noise**2)\n",
    "  \n",
    "  return sigma\n",
    "  \n",
    "\n",
    "def make_corrupted_data(x_true, corr_type='mask'):\n",
    "  \n",
    "  mask = np.ones((28,28))\n",
    "  \n",
    "  if corr_type=='mask':\n",
    "    \n",
    "    minx = 0\n",
    "    maxx = 16\n",
    "    \n",
    "    mask[0:28,minx:maxx]=0.\n",
    "    \n",
    "    corr_data = x_true*mask[None,:,:,None]\n",
    "    \n",
    "  elif corr_type=='sparse mask':\n",
    "    \n",
    "    mask    = np.ones(data_dim, dtype=int)\n",
    "    percent = 95\n",
    "    np.random.seed(seed+2)\n",
    "    indices = np.random.choice(np.arange(data_dim), replace=False,size=int(percent/100.*data_dim))\n",
    "    print('precentage masked:', len(indices)/data_dim)\n",
    "    mask[indices] =0 \n",
    "  \n",
    "    corr_data = x_true*mask[None,:,:]\n",
    "    \n",
    "  elif corr_type=='noise':\n",
    "    \n",
    "    np.random.seed(seed+2)\n",
    "    noise = np.random.randn(data_dim*data_size)*noise_level\n",
    "    \n",
    "    corr_data = x_true+noise\n",
    "    \n",
    "  elif corr_type=='noise+mask':\n",
    "    \n",
    "    np.random.seed(seed+2)\n",
    "    noise = np.random.randn(data_dim*data_size)*noise_level\n",
    "    \n",
    "    minx = 14\n",
    "    maxx = 28\n",
    "    \n",
    "    mask[0:28,minx:maxx]=0.\n",
    "    mask = mask.reshape((28,28))\n",
    "    \n",
    "    corr_data = x_true+noise\n",
    "    corr_data = corr_data*mask[None,:,:]\n",
    "    \n",
    "  elif corr_type=='none':\n",
    "    \n",
    "    corr_data = x_true\n",
    "    \n",
    "  corr_data = np.expand_dims(corr_data,-1)\n",
    "  \n",
    "  mask = mask.flatten()\n",
    "  \n",
    "  return corr_data, mask"
   ]
  },
  {
   "cell_type": "code",
   "execution_count": 76,
   "metadata": {
    "colab": {},
    "colab_type": "code",
    "id": "9TIQArTJHE87"
   },
   "outputs": [],
   "source": [
    "def fwd_pass(generator,nvp,z,mask):\n",
    "  \n",
    "  fwd_z           = nvp({'z_sample':np.zeros((1,hidden_size)),'sample_size':1, 'u_sample':z},as_dict=True)['fwd_pass']\n",
    "  fwd_z           = generator({'z':z},as_dict=True)['x']\n",
    "  gen_z           = tf.boolean_mask(tf.reshape(fwd_z,[data_size,data_dim,n_channels]),mask, axis=1)\n",
    "\n",
    "  return gen_z\n",
    "\n",
    "\n",
    "def get_likelihood(generator,nvp,z,sigma,mask):\n",
    "  \n",
    "  gen_z           = fwd_pass(generator,nvp,z,mask)\n",
    "  \n",
    "  sigma           = tf.boolean_mask(sigma,mask, axis=1)\n",
    "\n",
    "  likelihood      = tfd.Independent(tfd.MultivariateNormalDiag(loc=gen_z,scale_diag=sigma))\n",
    "\n",
    "  return likelihood\n",
    "\n",
    "def get_prior():\n",
    "  \n",
    "  return tfd.MultivariateNormalDiag(tf.zeros([data_size,hidden_size]), scale_identity_multiplier=1.0, name ='prior')\n",
    "\n",
    "def get_log_posterior(z,x,generator,nvp,sigma,mask, beta):\n",
    "  \n",
    "  likelihood      = get_likelihood(generator,nvp,z,sigma,mask)\n",
    "  \n",
    "  prior           = get_prior()\n",
    "  \n",
    "  masked_x        = tf.boolean_mask(x,mask, axis=1)\n",
    "  \n",
    "  log_posterior   = prior.log_prob(z)+likelihood.log_prob(masked_x)*beta\n",
    "  \n",
    "  return log_posterior\n",
    "\n",
    "\n",
    "def get_recon(generator,nvp, z,sigma,mask):\n",
    "  \n",
    "  prob = get_likelihood(generator,nvp, z,sigma,mask)\n",
    "  \n",
    "  recon= prob.mean()\n",
    "  \n",
    "  return recon\n",
    "\n",
    "def get_hessian(func, z):\n",
    "  \n",
    "  hess             = tf.hessians(func,z)\n",
    "  hess             = tf.gather(hess, 0)\n",
    "  \n",
    "  return(tf.reduce_sum(hess, axis = 2 ))\n",
    "\n",
    "\n",
    "def get_GN_hessian(generator,nvp,z,mask,sigma):\n",
    "\n",
    "\n",
    "  gen_z            = fwd_pass(generator,nvp,z,mask)\n",
    "  \n",
    "  sigma            = tf.boolean_mask(sigma,mask, axis=1)\n",
    "\n",
    "  grad_g           = tf.gather(tf.gradients(gen_z/(sigma),z),0)\n",
    "\n",
    "  grad_g2          = tf.einsum('ij,ik->ijk',grad_g,grad_g)\n",
    "\n",
    "  one              = tf.linalg.eye(hidden_size, batch_shape=[data_size],dtype=tf.float32)\n",
    "\n",
    "  hess_GN          = one+grad_g2\n",
    "  \n",
    "  return hess_GN\n",
    "  \n",
    "def compute_covariance(hessian):\n",
    "  \n",
    "  hessian = transform_diagonal(hessian, None, 1e-4)\n",
    "  cov = tf.linalg.inv(hessian)\n",
    "  \n",
    "  cov = (cov+tf.linalg.transpose(cov))*0.5\n",
    "  \n",
    "  return cov"
   ]
  },
  {
   "cell_type": "code",
   "execution_count": 77,
   "metadata": {
    "colab": {},
    "colab_type": "code",
    "id": "QGyi6PVWx1qd"
   },
   "outputs": [],
   "source": [
    "def minimize_posterior(initial_value, x, custom_mask, noise, my_sess, annealing =True):\n",
    "  \n",
    "  ini = np.reshape(initial_value,[data_size,hidden_size])\n",
    "  \n",
    "  my_sess.run(MAP_reset,feed_dict={input_data: x, MAP_ini:ini, mask:custom_mask,sigma_corr:noise})\n",
    "  \n",
    "  pos_def = False\n",
    "\n",
    "  \n",
    "  posterior_loss = []\n",
    "  for lrate, numiter in zip([1e-1,1e-2,1e-3,1e-4],[10000,10000,10000,10000]):\n",
    "    print('lrate', lrate)\n",
    "    for jj in range(numiter):\n",
    "      if annealing and lrate==1e-1:\n",
    "        inv_T= np.round(0.5*np.exp(-(1.-jj/numiter)),decimals=1)\n",
    "      else:\n",
    "        inv_T= 1.\n",
    "      _, ll = my_sess.run([opt_op_MAP,loss_MAP],feed_dict={input_data: x, mask:custom_mask, sigma_corr:noise, lr: lrate, inverse_T:inv_T})\n",
    "      posterior_loss.append(ll)\n",
    "      if jj%1000==0:\n",
    "        print('iter', jj, 'loss', ll,r'inverse T', inv_T)\n",
    "        \n",
    "  z_value = my_sess.run(MAP,feed_dict={input_data: x, mask:custom_mask, sigma_corr:noise})\n",
    "  \n",
    "  eig     = my_sess.run(tf.linalg.eigvalsh(hessian[0]),feed_dict={input_data: x, mask:custom_mask,sigma_corr:noise})\n",
    "  hess    = my_sess.run(hessian[0],feed_dict={input_data: x, mask:custom_mask,sigma_corr:noise})\n",
    "  hessGN  = my_sess.run(hessian_GN[0],feed_dict={input_data: x, mask:custom_mask,sigma_corr:noise})\n",
    "  print('eig', eig)\n",
    "  if np.all(eig>0.):\n",
    "    pos_def = True\n",
    "  \n",
    "  loss    = ll\n",
    "  plt.figure()\n",
    "  plt.plot(posterior_loss)\n",
    "  plt.ylabel('loss')\n",
    "  plt.xlabel('iteration')\n",
    "  plt.show()\n",
    "  \n",
    "  return z_value, loss, pos_def, hess, hessGN\n",
    "  "
   ]
  },
  {
   "cell_type": "code",
   "execution_count": 78,
   "metadata": {
    "colab": {},
    "colab_type": "code",
    "id": "oiAie-wjUcHN"
   },
   "outputs": [],
   "source": [
    "def get_laplace_sample(num,map_value,x,mymask,noise,my_sess):\n",
    "  \n",
    "  my_sess.run(MAP_reset,feed_dict={MAP_ini:map_value})\n",
    "  my_sess.run(update_mu)\n",
    "  my_sess.run(update_TriL,feed_dict={input_data: x, mask: mymask, sigma_corr:noise})\n",
    "  \n",
    "  samples=[]\n",
    "  for ii in range(num):\n",
    "    my_sess.run(posterior_sample,feed_dict={input_data: x, sigma_corr:noise})\n",
    "    samples.append(my_sess.run(recon,feed_dict={input_data: x, sigma_corr:noise}))\n",
    "    \n",
    "  samples=np.asarray(samples)\n",
    "  return samples\n",
    "\n",
    "def get_gmm_sample(num,x,mymask,noise,my_sess):\n",
    "  \n",
    "  samples=[]\n",
    "  for ii in range(num):\n",
    "    samples.append(my_sess.run(gmm_recon,feed_dict={input_data: x, sigma_corr:noise}))\n",
    "    \n",
    "  samples=np.asarray(samples)\n",
    "  return samples"
   ]
  },
  {
   "cell_type": "code",
   "execution_count": 79,
   "metadata": {
    "colab": {},
    "colab_type": "code",
    "id": "SXhLJToHcp7b"
   },
   "outputs": [],
   "source": [
    "def plot_samples(samples, mask, title='samples', filename='samples'):\n",
    "  plt.figure()\n",
    "  plt.title(title)\n",
    "  for i in range(min(len(samples),16)):\n",
    "      subplot(4,4,i+1)\n",
    "      imshow(np.reshape(samples[i,:],(28,28)),vmin=-0.2,vmax=1.2, cmap='gray')\n",
    "      axis('off')\n",
    "  plt.savefig(plot_path+filename+'.pdf',bbox_inches='tight')\n",
    "  plt.show()\n",
    "  \n",
    "  if corr_type in ['mask', 'sparse mask', 'noise+mask']:\n",
    "    plt.figure()\n",
    "    plt.title('masked'+title)\n",
    "    for i in range(min(len(samples),16)):\n",
    "        subplot(4,4,i+1)\n",
    "        imshow(np.reshape(samples[i,0,:,0]*mask,(28,28)),vmin=-0.2,vmax=1.2, cmap='gray')\n",
    "        axis('off')     \n",
    "    plt.savefig(plot_path+filename+'masked.pdf',bbox_inches='tight')\n",
    "    plt.show()"
   ]
  },
  {
   "cell_type": "code",
   "execution_count": 80,
   "metadata": {
    "colab": {},
    "colab_type": "code",
    "id": "LYAt6f7MQSpa"
   },
   "outputs": [],
   "source": [
    "def get_random_start_values(num, my_sess):\n",
    "  result=[]\n",
    "  for ii in range(num):\n",
    "    result.append(my_sess.run(get_prior().sample()))\n",
    "  return result"
   ]
  },
  {
   "cell_type": "code",
   "execution_count": 81,
   "metadata": {
    "colab": {},
    "colab_type": "code",
    "id": "BaFIFXBnQ3o-"
   },
   "outputs": [],
   "source": [
    "def get_chi2(sigma,data,mean,masking=True, mask=None,threshold=0.02):\n",
    "  \n",
    "  if masking:\n",
    "    mask = np.reshape(mask,data.shape)\n",
    "    data = data[np.where(mask==1)]\n",
    "    mean = mean[np.where(mask==1)]\n",
    "    sigma= sigma[np.where(mask==1)]\n",
    "    \n",
    "  \n",
    "  low = min(sigma.flatten())\n",
    "  high= max(sigma.flatten())\n",
    "  \n",
    "  chi2_tot = np.sum((data-mean)**2/sigma**2)\n",
    "  dof_tot  = len(np.squeeze(data))\n",
    "  \n",
    "  if corr_type not in ['noise','noise+mask']:\n",
    "    chi2_low = np.sum((data[np.where(data<=threshold)]-mean[np.where(data<=threshold)])**2/sigma[np.where(data<=threshold)]**2)\n",
    "    dof_low  = len(np.squeeze(data[np.where(data<=threshold)]))\n",
    "    chi2_high= np.sum((data[np.where(data>threshold)]-mean[np.where(data>threshold)])**2/sigma[np.where(data>threshold)]**2)\n",
    "    dof_high = len(np.squeeze(data[np.where(data>threshold)]))\n",
    "  else:\n",
    "    chi2_low = None\n",
    "    dof_low  = None\n",
    "    chi2_high= None\n",
    "    dof_high = None\n",
    "  \n",
    "  return chi2_tot, dof_tot, chi2_low, dof_low, chi2_high, dof_high, masking"
   ]
  },
  {
   "cell_type": "code",
   "execution_count": 82,
   "metadata": {
    "colab": {},
    "colab_type": "code",
    "id": "yGtEbpIZ2vhx"
   },
   "outputs": [],
   "source": [
    "def plot_minima(minima, losses, var):\n",
    "\n",
    "  plt.figure()\n",
    "  plt.title('Minimization result')\n",
    "  plt.plot(np.arange(len(losses)),losses,ls='',marker='o')\n",
    "  plt.xlabel('# iteration')\n",
    "  plt.ylabel('loss')\n",
    "  plt.savefig(plot_path+'minimzation_results_%s.pdf'%(label),bbox_inches='tight')\n",
    "  plt.show()\n",
    "  \n",
    "  colors = matplotlib.colors.Normalize(vmin=min(losses), vmax=max(losses))\n",
    "  cmap   = matplotlib.cm.get_cmap('Spectral')\n",
    "  \n",
    "  var = np.squeeze(var)\n",
    "  plt.figure()\n",
    "  plt.title('value of hidden variables at minima')\n",
    "  for ii in range(len(minima)):\n",
    "  \n",
    "    yerr_= np.sqrt(var[ii])\n",
    "\n",
    "    plt.errorbar(np.arange(hidden_size),np.squeeze(minima)[ii], marker='o',ls='', c=cmap(colors(losses[ii])), mew=0, yerr=yerr_, label ='%d'%losses[ii])\n",
    "  plt.legend(ncol=4, loc=(1.01,0))\n",
    "  plt.xlabel('# hidden variable')\n",
    "  plt.ylabel('value')\n",
    "  plt.savefig(plot_path+'hidden_values_at_minima_%s.pdf'%(label),bbox_inches='tight')\n",
    "  plt.show()"
   ]
  },
  {
   "cell_type": "code",
   "execution_count": 83,
   "metadata": {
    "colab": {},
    "colab_type": "code",
    "id": "80BR72DX58VQ"
   },
   "outputs": [],
   "source": [
    "# def probe_posterior(minimum, x, noise, mymask, my_sess, filename=label):\n",
    "\n",
    "#   _ = my_sess.run(MAP_reset,feed_dict={input_data: x, MAP_ini:minimum, sigma_corr:noise})\n",
    "#   _ = my_sess.run(update_mu,feed_dict={input_data: x, mask:mymask, sigma_corr:noise})\n",
    "#   _ = my_sess.run(update_TriL,feed_dict={input_data: x, mask:mymask, sigma_corr:noise})\n",
    "  \n",
    "#   exact_hessian = sess.run(hessian,feed_dict={input_data: x, mask:mymask, sigma_corr:noise})\n",
    "#   approx_hessian= sess.run(GN_hessian,feed_dict={input_data: x, mask:mymask, sigma_corr:noise})\n",
    "#   ll0 = sess.run(loss_MAP,feed_dict={input_data: x, mask:mymask, sigma_corr:noise})\n",
    "  \n",
    "  \n",
    "#   plt.figure(figsize=(20,5))\n",
    "  \n",
    "#   for nn in np.arange(hidden_size):\n",
    "#     H    = exact_hessian[0,nn,nn]\n",
    "#     HGN  = approx_hessian[0,nn,nn]\n",
    "\n",
    "#     losses=[]\n",
    "    \n",
    "    \n",
    "#     subplot(2,5,nn+1)\n",
    "#     title('latent space direction %d'%nn)\n",
    "    \n",
    "#     Delta   = 0.1\n",
    "#     steps   = 1000\n",
    "#     delta_z = np.zeros((steps,hidden_size))\n",
    "\n",
    "#     delta_z[:,nn] = (np.arange(steps)-steps//2)*Delta/steps\n",
    "#     new_ini       = delta_z+minimum\n",
    "\n",
    "#     for ii in range(steps):\n",
    "#       _ = sess.run(MAP_reset,feed_dict={input_data: x, mask:mymask, MAP_ini:np.expand_dims(new_ini[ii],axis=0), sigma_corr:noise})\n",
    "#       ll = sess.run(loss_MAP,feed_dict={input_data: x, mask:mymask, sigma_corr:noise})\n",
    "#       losses.append(ll)\n",
    "     \n",
    "\n",
    "    \n",
    "\n",
    "#     plt.plot(new_ini[:,nn],ll0+H*delta_z[:,nn]**2,label='estimate from exact Hessian')\n",
    "#     #plt.plot(new_ini[:,nn],ll0+HGN*delta_z[:,nn]**2,label='estimate from Gauss-Newton')\n",
    "#     plt.plot(new_ini[:,nn],losses,label='probed posterior', lw=2)\n",
    "#     plt.xlabel('z')\n",
    "#     plt.ylabel('negative log posterior')\n",
    "#     plt.ylim(min(losses),min(losses)+1.5)\n",
    "\n",
    "#   plt.tight_layout()\n",
    "#   plt.legend(loc=(1.02,1.7))\n",
    "  \n",
    "  \n",
    "  \n",
    "#   plt.savefig(plot_path+'probing_posterior_%s.png'%(filename),bbox_inches='tight')\n",
    "#   plt.show()\n"
   ]
  },
  {
   "cell_type": "code",
   "execution_count": 84,
   "metadata": {
    "colab": {},
    "colab_type": "code",
    "id": "qrZDSLzEIKrn"
   },
   "outputs": [],
   "source": [
    "def get_gmm_parameters(minima, x, noise, mymask, offset):\n",
    "  mu   =[]\n",
    "  w    =[]\n",
    "  sigma=[]\n",
    "  print(len(minima), num_comp)\n",
    "  for ii in range(num_comp):\n",
    "\n",
    "    # do Laplace approximation around this minimum\n",
    "    mu+=[minima[ii][0]]\n",
    "\n",
    "    sess.run(MAP_reset,feed_dict={MAP_ini:minima[ii]})\n",
    "    sigma+=[sess.run(update_TriL,feed_dict={input_data: x, sigma_corr:noise, mask: mymask})]\n",
    "\n",
    "    # correct weighting of different minima according to El20 procedure, with samples at the maxima and well seperated maxima\n",
    "    logdet  = sess.run(tf.linalg.logdet(covariance[0]),feed_dict={input_data: x, sigma_corr:noise, mask: mymask})\n",
    "    logprob = sess.run(nlPost_MAP,feed_dict={input_data: x, sigma_corr:noise, mask: mymask})\n",
    "    w+=[np.exp(0.5*logdet+logprob+offset)]\n",
    "  print(np.asarray(w).shape)\n",
    "  print('weights of Gaussian mixtures:', np.asarray(w)[:,0]/np.sum(np.asarray(w)[:,0]))\n",
    "  mu     = np.reshape(np.asarray(mu),[1,num_comp,hidden_size])\n",
    "  sigma  = np.reshape(np.asarray(sigma)[:,0],[1,num_comp,hidden_size,hidden_size])\n",
    "  w      = np.squeeze(np.asarray(w)[:,0])\n",
    "                         \n",
    "  return mu, sigma, w\n",
    "                                 "
   ]
  },
  {
   "cell_type": "code",
   "execution_count": 85,
   "metadata": {
    "colab": {},
    "colab_type": "code",
    "id": "gQXNNSN7TecV"
   },
   "outputs": [],
   "source": [
    "def plot_prob_2D_GMM(samples, indices):\n",
    "\n",
    "    samples = samples[:,0,:]\n",
    "\n",
    "    samples = np.hstack((np.expand_dims(samples[:,indices[0]],-1),np.expand_dims(samples[:,indices[1]],-1)))\n",
    "\n",
    "    figure=corner.corner(samples)\n",
    "    axes = np.array(figure.axes).reshape((2, 2))\n",
    "\n",
    "    axes[1,0].set_xlabel('latent space variable %d'%indices[0])\n",
    "    axes[1,0].set_ylabel('latent space variable %d'%indices[1])\n",
    "    plt.savefig(plot_path+'posterior_contour_GMM_%s_latent_space_dir_%d_%d.pdf'%(label,indices[0],indices[1]),bbox_inches='tight')\n",
    "    plt.show()\n",
    "    \n",
    "  "
   ]
  },
  {
   "cell_type": "code",
   "execution_count": 86,
   "metadata": {},
   "outputs": [],
   "source": [
    "def transform_diagonal(matrix, transform=tf.nn.softplus, add=0):\n",
    "  diag = tf.linalg.diag_part(matrix)\n",
    "  if transform is not None:\n",
    "    diag = transform(diag)\n",
    "  transformed_diag = diag+add\n",
    "  new_matrix = tf.linalg.set_diag(matrix, transformed_diag)\n",
    "  return new_matrix"
   ]
  },
  {
   "cell_type": "code",
   "execution_count": 87,
   "metadata": {
    "colab": {
     "base_uri": "https://localhost:8080/",
     "height": 353
    },
    "colab_type": "code",
    "executionInfo": {
     "elapsed": 14338,
     "status": "ok",
     "timestamp": 1558592190485,
     "user": {
      "displayName": "Vanessa Boehm",
      "photoUrl": "",
      "userId": "18062987068597777273"
     },
     "user_tz": 420
    },
    "id": "yvTEYw44O_5q",
    "outputId": "31ee8455-c44d-493e-e04f-e1d42abffdf7"
   },
   "outputs": [
    {
     "name": "stdout",
     "output_type": "stream",
     "text": [
      "INFO:tensorflow:Saver not created because there are no variables in the graph to restore\n",
      "INFO:tensorflow:Saver not created because there are no variables in the graph to restore\n",
      "INFO:tensorflow:Saver not created because there are no variables in the graph to restore\n",
      "INFO:tensorflow:Saver not created because there are no variables in the graph to restore\n",
      "INFO:tensorflow:Saver not created because there are no variables in the graph to restore\n",
      "INFO:tensorflow:Saver not created because there are no variables in the graph to restore\n",
      "Tensor(\"mul_1:0\", shape=(64, 8, 8), dtype=float32)\n",
      "INFO:tensorflow:Saver not created because there are no variables in the graph to restore\n",
      "INFO:tensorflow:Saver not created because there are no variables in the graph to restore\n"
     ]
    }
   ],
   "source": [
    "tf.reset_default_graph()\n",
    "\n",
    "\n",
    "sigma_corr  = tf.placeholder_with_default(noise_n,shape=[1,data_dim,n_channels])\n",
    "mask        = tf.placeholder_with_default(np.ones([data_dim], dtype='float32'),shape=[data_dim])\n",
    "input_data  = tf.placeholder(shape=[data_size,data_dim,n_channels], dtype=tf.float32)\n",
    "\n",
    "inverse_T   = tf.placeholder_with_default(1., shape=[])\n",
    "lr          = tf.placeholder_with_default(0.001,shape=[])\n",
    "\n",
    "encoder     = hub.Module(encoder_path, trainable=False)\n",
    "generator   = hub.Module(generator_path, trainable=False)\n",
    "nvp_funcs   = hub.Module(nvp_path, trainable=False)\n",
    "\n",
    "MAP_ini     = tf.placeholder_with_default(tf.zeros([data_size,hidden_size]),shape=[data_size,hidden_size])\n",
    "MAP         = tf.Variable(MAP_ini)\n",
    "MAP_reset   = tf.stop_gradient(MAP.assign(MAP_ini))\n",
    "\n",
    "nlPost_MAP  = get_log_posterior(MAP, input_data, generator,nvp_funcs, sigma_corr,mask, inverse_T)\n",
    "loss_MAP    = -nlPost_MAP[0]\n",
    "\n",
    "optimizer   = tf.train.AdamOptimizer(learning_rate=lr)\n",
    "\n",
    "opt_op_MAP  = optimizer.minimize(loss_MAP, var_list=[MAP])\n",
    "\n",
    "recon_MAP   = get_recon(generator,nvp_funcs, MAP,sigma_corr,mask)\n",
    "\n",
    "hessian            = get_hessian(-nlPost_MAP,MAP)\n",
    "hessian_GN         = get_GN_hessian(generator,nvp_funcs,MAP,mask,sigma_corr)\n",
    "covariance         = compute_covariance(hessian)\n",
    "variance           = tf.linalg.diag_part(covariance)[0]\n",
    "print(covariance)\n",
    "# \n",
    "\n",
    "# ini_val  = np.ones((1,(hidden_size *(hidden_size +1)) // 2),dtype=np.float32)\n",
    "# with tf.variable_scope(\"Laplace_Posterior\",reuse=tf.AUTO_REUSE):\n",
    "#   mu_new      = tf.Variable(np.ones((1,hidden_size),dtype=np.float32), dtype=np.float32)\n",
    "#   sigma_new_t = ini_val\n",
    "#   sigma_new_t = transform_diagonal(tfp.math.fill_triangular(sigma_new_t))   \n",
    "#   sigma_new_t2 = tf.Variable(sigma_new_t,dtype=tf.float32)\n",
    "    \n",
    "# update_mu          = MAP_update.assign(tf.expand_dims(MAP[0],0))\n",
    "\n",
    "approx_posterior_laplace = tfd.MultivariateNormalFullCovariance(loc=MAP[0],covariance_matrix=covariance[0])\n",
    "\n",
    "\n",
    "\n",
    "#update_TriL        = TriL_update.assign(tf.expand_dims(tf.linalg.cholesky(covariance[0]),0))\n",
    "\n",
    "posterior_sample   = approx_posterior_laplace.sample(64)\n",
    "\n",
    "recon              = get_recon(generator,nvp_funcs, posterior_sample ,sigma_corr,mask)\n",
    "\n",
    "# ini_val2    = np.ones((1,num_comp,(hidden_size *(hidden_size +1)) // 2),dtype=np.float32)\n",
    "# with tf.variable_scope(\"corrupted/gmm\",reuse=tf.AUTO_REUSE):\n",
    "#   mu_gmm      = tf.Variable(np.ones((1,num_comp,hidden_size)), dtype=np.float32)\n",
    "#   sigma_gmm   = tf.Variable(tfp.math.fill_triangular(ini_val2))\n",
    "#   w_gmm       = tf.Variable(np.ones((num_comp))/num_comp, dtype=np.float32)\n",
    "  \n",
    "# sigma_gmmt    = transform_diagonal(sigma_gmm)\n",
    "# w_positive    = tf.math.softplus(w_gmm)\n",
    "# w_rescaled    = tf.squeeze(w_positive/tf.reduce_sum(w_positive))\n",
    "\n",
    "# gmm           = tfd.MixtureSameFamily(mixture_distribution=tfd.Categorical(probs=w_rescaled),components_distribution=tfd.MultivariateNormalTriL(loc=mu_gmm,scale_tril=sigma_gmmt))\n",
    "\n",
    "# mu_ini        = tf.placeholder_with_default(tf.zeros([1,num_comp,hidden_size]),shape=[1,num_comp,hidden_size])\n",
    "# sigma_ini     = tf.placeholder_with_default(tf.ones([1,num_comp,hidden_size, hidden_size]),shape=[1,num_comp,hidden_size, hidden_size])\n",
    "# w_ini         = tf.placeholder_with_default(tf.ones([num_comp])/num_comp,shape=[num_comp])\n",
    "\n",
    "# update_w      = tf.stop_gradient(w_gmm.assign(tfp.math.softplus_inverse(w_ini)))\n",
    "# update_mugmm  = tf.stop_gradient(mu_gmm.assign(mu_ini))\n",
    "# update_TriLgmm= tf.stop_gradient(sigma_gmm.assign(transform_diagonal(sigma_ini)))\n",
    "\n",
    "# gmm_sample    = gmm.sample()\n",
    "# gmm_sample    = tf.repeat(gmm_sample, params['batch_size'], axis=0)\n",
    "# # print(gmm_sample)\n",
    "# gmm_recon     = get_recon(generator,nvp_funcs, gmm_sample ,sigma_corr,mask)\n"
   ]
  },
  {
   "cell_type": "code",
   "execution_count": 88,
   "metadata": {},
   "outputs": [],
   "source": [
    "minima_path = '../minimas/8/'\n",
    "#os.makedirs(minima_path)"
   ]
  },
  {
   "cell_type": "code",
   "execution_count": 89,
   "metadata": {
    "colab": {
     "base_uri": "https://localhost:8080/",
     "height": 4721
    },
    "colab_type": "code",
    "executionInfo": {
     "elapsed": 131558,
     "status": "ok",
     "timestamp": 1558592307817,
     "user": {
      "displayName": "Vanessa Boehm",
      "photoUrl": "",
      "userId": "18062987068597777273"
     },
     "user_tz": 420
    },
    "id": "Soh1tnGH1FTW",
    "outputId": "48802731-2a32-48fc-fd12-071300e5c583"
   },
   "outputs": [
    {
     "data": {
      "image/png": "[encoded data removed]",
      "text/plain": [
       "<Figure size 432x288 with 1 Axes>"
      ]
     },
     "metadata": {
      "needs_background": "light"
     },
     "output_type": "display_data"
    },
    {
     "name": "stdout",
     "output_type": "stream",
     "text": [
      "mask (64, 28, 28, 1)\n",
      "(64, 28, 28, 1, 1)\n"
     ]
    },
    {
     "data": {
      "image/png": "[encoded data removed]",
      "text/plain": [
       "<Figure size 432x288 with 1 Axes>"
      ]
     },
     "metadata": {
      "needs_background": "light"
     },
     "output_type": "display_data"
    },
    {
     "data": {
      "image/png": "[encoded data removed]",
      "text/plain": [
       "<Figure size 432x288 with 1 Axes>"
      ]
     },
     "metadata": {
      "needs_background": "light"
     },
     "output_type": "display_data"
    },
    {
     "data": {
      "image/png": "[encoded data removed]",
      "text/plain": [
       "<Figure size 432x288 with 1 Axes>"
      ]
     },
     "metadata": {
      "needs_background": "light"
     },
     "output_type": "display_data"
    }
   ],
   "source": [
    "sess = tf.Session()\n",
    "sess.run(tf.global_variables_initializer())\n",
    "plot_path = params['plot_dir']\n",
    "\n",
    "truth = x_test[num_mnist:num_mnist+data_size]\n",
    "plot_image(truth[0], directory=plot_path, filename='truth_%s'%label, title='truth')\n",
    "print(corr_type, truth.shape)\n",
    "data, custom_mask = make_corrupted_data(truth, corr_type=corr_type)\n",
    "print(data.shape)\n",
    "plot_image(data[0], directory=plot_path, filename='input_data_%s'%label, title='data')\n",
    "plot_image(custom_mask, directory=plot_path, filename='mask_data_%s'%label, title='mask')\n",
    "\n",
    "noise = get_custom_noise(data.shape, signal_dependent=False, signal=truth)\n",
    "plot_image(noise[0], directory=plot_path, filename='noise_%s'%label, title='noise')\n",
    "\n",
    "data = np.reshape(data,(-1,28*28,1))\n",
    "custom_mask = np.reshape(custom_mask,(28*28))\n",
    "noise = noise_n\n",
    "\n",
    "tf.random.set_random_seed(seed)\n",
    "inits = get_random_start_values(10, sess)\n",
    "\n",
    "try:\n",
    "    minima, min_loss, min_var,recons, hesss, hesssGN = pickle.load(open(minima_path+'minima_%s.pkl'%label,'rb'))\n",
    "except:\n",
    "    minima  =[]\n",
    "    min_loss=[]\n",
    "    min_var =[]\n",
    "    recons  =[]\n",
    "    hesss   =[]\n",
    "    hesssGN =[]\n",
    "    for jj,init in enumerate(inits):\n",
    "      print('progress in %', jj/len(inits)*100)\n",
    "      min_z, min_l, pos_def,hess,hessGN    = minimize_posterior(init, data,custom_mask,noise,sess)\n",
    "      rec                           = sess.run(recon_MAP, feed_dict={sigma_corr:noise})\n",
    "      var                           = sess.run(variance, feed_dict={input_data: data,mask:custom_mask,sigma_corr:noise})\n",
    "\n",
    "      plot_image(rec[0], directory=plot_path, filename='recon_%s_minimum%d'%(label,jj), title='reconstruction with loss %.1f'%min_l)\n",
    "      if pos_def:\n",
    "        print('hessian postive definite')\n",
    "        minima.append(min_z)\n",
    "        min_loss.append(min_l)\n",
    "        min_var.append(var)\n",
    "        recons.append(rec)\n",
    "        hesss.append(hess)\n",
    "        hesssGN.append(hessGN)\n",
    "\n",
    "order    = np.argsort(min_loss)\n",
    "min_loss = np.asarray(min_loss)[order]\n",
    "minima   = np.asarray(minima)[order]\n",
    "min_var  = np.asarray(min_var)[order]\n",
    "hesss    = np.asarray(hesss)[order]\n",
    "hesssGN  = np.asarray(hesssGN)[order]\n",
    "\n",
    "pickle.dump([minima, min_loss, min_var,recons, hesss, hesssGN],open(minima_path+'minima_%s.pkl'%label,'wb'))\n",
    "\n",
    "#   lowest_minimum = sess.run(MAP_reset, feed_dict={MAP_ini:minima[0]})\n",
    "#   rec     = sess.run(recon_MAP, feed_dict={MAP_ini:minima[0],sigma_corr:noise})\n",
    "#   plot_image(rec[0]+0.5, directory=plot_path, filename='lowest_minimum_%s'%(label), title='reconstruction', vmin=0, vmax=1)\n",
    "#   if corr_type in ['mask', 'sparse mask', 'noise+mask']:\n",
    "#     plot_image(rec[0]+0.5, directory=plot_path, filename='lowest_minimum_%s_masked'%(label), title='masked reconstruction', vmin=0, vmax=1, mask = custom_mask)\n",
    "    \n",
    "#   samples  = sess.run(posterior_sample, feed_dict={MAP_ini:minima[0],input_data: data,sigma_corr:noise})\n",
    "#   print(np.std(samples-minima[0][0]))\n",
    "#   recs     = sess.run(recon_MAP, feed_dict={MAP_ini:samples, sigma_corr:noise,input_data: data,sigma_corr:noise})\n",
    "#   #plot_samples(recs+0.5, custom_mask, title='Samples from Laplace approximation', filename='samples_laplace_deepest_minimum_%s'%label)\n",
    "#   for ii in range(16):\n",
    "#     plt.subplot(4,4,ii+1)\n",
    "#     plt.imshow((recs[ii]+0.5).reshape(28,28),cmap='gray')\n",
    "#     plt.axis('off')\n",
    "#   mu_, sigma_, w_ = get_gmm_parameters([minima[0],minima[1]], data, noise, custom_mask, min_loss[0])\n",
    "#   print(sigma_,mu_,w_)\n",
    "#   _ = sess.run([update_w, update_mugmm,update_TriLgmm], feed_dict={mu_ini:mu_, w_ini:w_, sigma_ini:sigma_ })\n",
    "\n",
    "#   samples = get_gmm_sample(16,data,custom_mask,noise,sess)\n",
    "#   plot_samples(samples[:,0:1,:,:]+0.5, custom_mask, title='GMM samples', filename='gmm_samples_%s'%label)\n",
    "  \n",
    "# #   more_samples = []\n",
    "# #   for ii in range(10000):\n",
    "# #     more_samples+=[sess.run(gmm_sample,feed_dict={input_data: data, sigma_corr:noise})]\n",
    "# #   more_samples=np.asarray(more_samples)\n",
    "  \n",
    "# #   for indices in [[0,1],[1,2],[3,8]]:\n",
    "# #     plot_prob_2D_GMM(more_samples, indices)\n",
    "  "
   ]
  },
  {
   "cell_type": "code",
   "execution_count": null,
   "metadata": {},
   "outputs": [],
   "source": []
  },
  {
   "cell_type": "code",
   "execution_count": 45,
   "metadata": {},
   "outputs": [
    {
     "name": "stdout",
     "output_type": "stream",
     "text": [
      "[-764.6644  -764.66425 -764.0459  -763.62146 -763.4177  -763.4177\n",
      " -763.41766 -763.41766 -763.256   -763.2527 ]\n"
     ]
    },
    {
     "data": {
      "image/png": "[encoded data removed]",
      "text/plain": [
       "<Figure size 432x288 with 1 Axes>"
      ]
     },
     "metadata": {
      "needs_background": "light"
     },
     "output_type": "display_data"
    }
   ],
   "source": [
    "plt.scatter(np.arange(10),min_loss)\n",
    "\n",
    "print(min_loss)"
   ]
  },
  {
   "cell_type": "code",
   "execution_count": 46,
   "metadata": {},
   "outputs": [
    {
     "data": {
      "image/png": "[encoded data removed]",
      "text/plain": [
       "<Figure size 432x288 with 1 Axes>"
      ]
     },
     "metadata": {
      "needs_background": "light"
     },
     "output_type": "display_data"
    }
   ],
   "source": [
    "w=[]\n",
    "for ii in [0,2,3,4,8]:\n",
    "    hess    = hesss[ii]\n",
    "    cov     = np.linalg.inv(hess)\n",
    "    _, logdet = np.linalg.slogdet(cov)\n",
    "    logprob   = -min_loss[ii]\n",
    "    #print(logprob,logdet)\n",
    "    w+=[np.exp(0.5*logdet+logprob-1000)]\n",
    "w=np.asarray(w)/np.sum(np.asarray(w))\n",
    "plt.plot(w)\n",
    "index_gauss =np.sum(np.random.multinomial(1, w,500000),axis=0)\n",
    "_=plt.plot(index_gauss/500000)\n",
    "\n",
    "samples = []\n",
    "for ii, n in enumerate([0,2,3,4,8]):\n",
    "    for jj in range(index_gauss[ii]):\n",
    "        cov = np.linalg.inv(hesss[n])\n",
    "        samples.append(np.dot(np.linalg.cholesky(cov),np.random.randn(8))+minima[n][0])\n",
    "samples=np.asarray(samples)"
   ]
  },
  {
   "cell_type": "code",
   "execution_count": 52,
   "metadata": {},
   "outputs": [
    {
     "data": {
      "image/png": "[encoded data removed]",
      "text/plain": [
       "<Figure size 360x288 with 20 Axes>"
      ]
     },
     "metadata": {
      "needs_background": "light"
     },
     "output_type": "display_data"
    }
   ],
   "source": [
    "ii       = 64\n",
    "recs     = sess.run(MAP_reset, feed_dict={MAP_ini:samples[ii:ii+64], sigma_corr:noise,input_data: data,sigma_corr:noise})\n",
    "recs     = sess.run(recon_MAP, feed_dict={MAP_ini:samples[ii:ii+64], sigma_corr:noise,input_data: data,sigma_corr:noise})\n",
    "\n",
    "recs     = np.reshape(recs,(-1,28,28))+0.5\n",
    "  #plot_samples(recs+0.5, custom_mask, title='Samples from Laplace approximation', filename='samples_laplace_deepest_minimum_%s'%label)\n",
    "plt.figure(figsize=(5,4))\n",
    "for ii in range(10):\n",
    "    plt.subplot(4,5,ii+1)\n",
    "    plt.imshow((recs[ii]).reshape(28,28),cmap='gray')\n",
    "    plt.axis('off')\n",
    "for ii in range(10):\n",
    "    plt.subplot(4,5,10+ii+1)\n",
    "    masked = recs[ii]\n",
    "    masked[np.where(custom_mask.reshape(28,28)==0)]=0\n",
    "    plt.imshow(masked,cmap='gray')\n",
    "    plt.axis('off')\n",
    "plt.tight_layout()\n",
    "plt.savefig(os.path.join(params['plot_dir']+'posterior_samples_example1.pdf'),bbox_inches='tight')\n",
    "\n",
    "\n",
    "# plt.figure(figsize=(5,5))\n",
    "# for ii in range(32):\n",
    "#     plt.subplot(8,8,ii+1)\n",
    "\n",
    "#     plt.axis('off')\n",
    "#     plt.tight_layout()\n",
    "# plt.savefig(os.path.join(params['plot_dir']+'posterior_samples_maksed_example1.pdf'),bbox_inches='tight')"
   ]
  },
  {
   "cell_type": "code",
   "execution_count": 90,
   "metadata": {},
   "outputs": [
    {
     "data": {
      "image/png": "[encoded data removed]",
      "text/plain": [
       "<Figure size 432x288 with 1 Axes>"
      ]
     },
     "metadata": {
      "needs_background": "light"
     },
     "output_type": "display_data"
    },
    {
     "data": {
      "text/plain": [
       "True"
      ]
     },
     "execution_count": 90,
     "metadata": {},
     "output_type": "execute_result"
    }
   ],
   "source": [
    "recs     = sess.run(MAP_reset, feed_dict={MAP_ini:minima[0], sigma_corr:noise,input_data: data,sigma_corr:noise})\n",
    "recs     = sess.run(recon_MAP, feed_dict={MAP_ini:minima[0], sigma_corr:noise,input_data: data,sigma_corr:noise})\n",
    "plot_image(recs[0], directory=plot_path, filename='reconstruction', title='reconstruction')"
   ]
  },
  {
   "cell_type": "code",
   "execution_count": 54,
   "metadata": {},
   "outputs": [],
   "source": [
    "from mcmcplot import mcmcplot as mcp"
   ]
  },
  {
   "cell_type": "code",
   "execution_count": 63,
   "metadata": {},
   "outputs": [
    {
     "data": {
      "text/plain": [
       "(500000, 2)"
      ]
     },
     "execution_count": 63,
     "metadata": {},
     "output_type": "execute_result"
    }
   ],
   "source": [
    "samples_cut=np.vstack((samples[:,0],samples[:,4])).T\n",
    "samples_cut.shape"
   ]
  },
  {
   "cell_type": "code",
   "execution_count": 64,
   "metadata": {},
   "outputs": [
    {
     "data": {
      "image/png": "[encoded data removed]",
      "text/plain": [
       "<Figure size 432x432 with 3 Axes>"
      ]
     },
     "metadata": {
      "needs_background": "light"
     },
     "output_type": "display_data"
    }
   ],
   "source": [
    "fjd, used_settings = mcp.plot_joint_distributions(\n",
    "    chains=samples_cut,names=['', ''],\n",
    "    settings=None,\n",
    "    return_settings=True)\n",
    "a = fjd.ax_joint\n",
    "tmp = a.yaxis.get_label()\n",
    "tmp.set_fontsize(20)\n",
    "tmp = a.xaxis.get_label()\n",
    "tmp.set_fontsize(20)\n",
    "plt.savefig(os.path.join(params['plot_dir']+'distribution.pdf'),bbox_inches='tight')"
   ]
  },
  {
   "cell_type": "code",
   "execution_count": null,
   "metadata": {},
   "outputs": [],
   "source": []
  }
 ],
 "metadata": {
  "accelerator": "GPU",
  "colab": {
   "collapsed_sections": [],
   "name": "ImageCorruptionMNIST-solidmask.ipynb",
   "provenance": [
    {
     "file_id": "1MNU95Mz_d__oADtBAIStGI4it5x7Bhld",
     "timestamp": 1568328262524
    },
    {
     "file_id": "1wol-99_eTQox1JzmLDi2Hkb85P1KMGhQ",
     "timestamp": 1558592479445
    },
    {
     "file_id": "1BC1IGBcqr_cxOcbE7jRtReUznBoGME_s",
     "timestamp": 1558470820075
    },
    {
     "file_id": "17TLFq9rlzJ3Sa6d4pbhhLlyEA-52Xi-L",
     "timestamp": 1558456554236
    },
    {
     "file_id": "https://github.com/VMBoehm/DeNoPa/blob/master/TestingNVPExtensionGaussianLikelihoodTestingVI.ipynb",
     "timestamp": 1557532862331
    }
   ],
   "version": "0.3.2"
  },
  "kernelspec": {
   "display_name": "tf22",
   "language": "python",
   "name": "tf22"
  },
  "language_info": {
   "codemirror_mode": {
    "name": "ipython",
    "version": 3
   },
   "file_extension": ".py",
   "mimetype": "text/x-python",
   "name": "python",
   "nbconvert_exporter": "python",
   "pygments_lexer": "ipython3",
   "version": "3.8.3"
  }
 },
 "nbformat": 4,
 "nbformat_minor": 4
}
